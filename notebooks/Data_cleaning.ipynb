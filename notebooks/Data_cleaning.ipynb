{
 "cells": [
  {
   "cell_type": "code",
   "execution_count": 4,
   "id": "951b58b1-d25e-4a51-99ad-3f97ca3d5bed",
   "metadata": {},
   "outputs": [],
   "source": [
    "#Impoorting Libaries\n",
    "\n",
    "import pandas as pd\n"
   ]
  },
  {
   "cell_type": "code",
   "execution_count": 5,
   "id": "ed730635-d5bb-48f4-a9bc-ff4d1212558d",
   "metadata": {},
   "outputs": [],
   "source": [
    "# Load the dataset\n",
    "fifa = pd.read_csv(\"kl.csv\", encoding='ISO-8859-1')"
   ]
  },
  {
   "cell_type": "code",
   "execution_count": 6,
   "id": "3d36181e-90de-426c-bb9f-8c25205ec8f3",
   "metadata": {},
   "outputs": [],
   "source": [
    "# Load the dataset\n",
    "fifa = pd.read_csv(\"kl.csv\", encoding='ISO-8859-1')"
   ]
  },
  {
   "cell_type": "code",
   "execution_count": 7,
   "id": "ed04c5fa-5e3f-4c26-bab0-ef907caeff3b",
   "metadata": {},
   "outputs": [],
   "source": [
    "# 1️⃣ Drop unnecessary columns\n",
    "cols_to_drop = ['Unnamed: 0', 'Photo', 'Flag', 'Club Logo']\n",
    "fifa_cleaned = fifa.drop(columns=cols_to_drop, errors='ignore')"
   ]
  },
  {
   "cell_type": "code",
   "execution_count": 6,
   "id": "3c92de96-9535-4a08-bdc5-c50648d1967f",
   "metadata": {},
   "outputs": [],
   "source": [
    "# 2️⃣ Remove duplicates\n",
    "fifa_cleaned.drop_duplicates(inplace=True)\n"
   ]
  },
  {
   "cell_type": "code",
   "execution_count": 7,
   "id": "7f863a73-7f61-4f0c-9c6e-315c0fa1f62d",
   "metadata": {},
   "outputs": [],
   "source": [
    "# 3️⃣ Drop rows missing key identifiers\n",
    "fifa_cleaned.dropna(subset=['Name', 'Overall'], inplace=True)"
   ]
  },
  {
   "cell_type": "code",
   "execution_count": 8,
   "id": "666dbf37-3d8e-4aaa-a3c8-e8aaba87e48a",
   "metadata": {},
   "outputs": [],
   "source": [
    "# 4️⃣ Fill missing categorical data with \"Unknown\"\n",
    "categorical_cols = fifa_cleaned.select_dtypes(include='object').columns\n",
    "fifa_cleaned[categorical_cols] = fifa_cleaned[categorical_cols].fillna('Unknown')\n"
   ]
  },
  {
   "cell_type": "code",
   "execution_count": 9,
   "id": "c9027e00-61fb-4f16-994e-0a2a35904408",
   "metadata": {},
   "outputs": [],
   "source": [
    "# 5️⃣ Fill missing numeric data with median values\n",
    "numeric_cols = fifa_cleaned.select_dtypes(include=['int64', 'float64']).columns\n",
    "fifa_cleaned[numeric_cols] = fifa_cleaned[numeric_cols].fillna(fifa_cleaned[numeric_cols].median())\n"
   ]
  },
  {
   "cell_type": "code",
   "execution_count": 10,
   "id": "25246467-d951-4dd0-852d-fbfda793f2d0",
   "metadata": {},
   "outputs": [
    {
     "name": "stderr",
     "output_type": "stream",
     "text": [
      "C:\\Users\\enobo\\anaconda3\\Lib\\site-packages\\numpy\\lib\\nanfunctions.py:1215: RuntimeWarning: Mean of empty slice\n",
      "  return np.nanmean(a, axis, out=out, keepdims=keepdims)\n",
      "C:\\Users\\enobo\\AppData\\Local\\Temp\\ipykernel_6284\\565938931.py:15: FutureWarning: A value is trying to be set on a copy of a DataFrame or Series through chained assignment using an inplace method.\n",
      "The behavior will change in pandas 3.0. This inplace method will never work because the intermediate object on which we are setting values always behaves as a copy.\n",
      "\n",
      "For example, when doing 'df[col].method(value, inplace=True)', try using 'df.method({col: value}, inplace=True)' or df[col] = df[col].method(value) instead, to perform the operation inplace on the original object.\n",
      "\n",
      "\n",
      "  fifa_cleaned[col].fillna(fifa_cleaned[col].median(), inplace=True)\n",
      "C:\\Users\\enobo\\AppData\\Local\\Temp\\ipykernel_6284\\565938931.py:15: FutureWarning: Downcasting object dtype arrays on .fillna, .ffill, .bfill is deprecated and will change in a future version. Call result.infer_objects(copy=False) instead. To opt-in to the future behavior, set `pd.set_option('future.no_silent_downcasting', True)`\n",
      "  fifa_cleaned[col].fillna(fifa_cleaned[col].median(), inplace=True)\n",
      "C:\\Users\\enobo\\anaconda3\\Lib\\site-packages\\numpy\\lib\\nanfunctions.py:1215: RuntimeWarning: Mean of empty slice\n",
      "  return np.nanmean(a, axis, out=out, keepdims=keepdims)\n",
      "C:\\Users\\enobo\\AppData\\Local\\Temp\\ipykernel_6284\\565938931.py:15: FutureWarning: A value is trying to be set on a copy of a DataFrame or Series through chained assignment using an inplace method.\n",
      "The behavior will change in pandas 3.0. This inplace method will never work because the intermediate object on which we are setting values always behaves as a copy.\n",
      "\n",
      "For example, when doing 'df[col].method(value, inplace=True)', try using 'df.method({col: value}, inplace=True)' or df[col] = df[col].method(value) instead, to perform the operation inplace on the original object.\n",
      "\n",
      "\n",
      "  fifa_cleaned[col].fillna(fifa_cleaned[col].median(), inplace=True)\n",
      "C:\\Users\\enobo\\AppData\\Local\\Temp\\ipykernel_6284\\565938931.py:15: FutureWarning: Downcasting object dtype arrays on .fillna, .ffill, .bfill is deprecated and will change in a future version. Call result.infer_objects(copy=False) instead. To opt-in to the future behavior, set `pd.set_option('future.no_silent_downcasting', True)`\n",
      "  fifa_cleaned[col].fillna(fifa_cleaned[col].median(), inplace=True)\n",
      "C:\\Users\\enobo\\anaconda3\\Lib\\site-packages\\numpy\\lib\\nanfunctions.py:1215: RuntimeWarning: Mean of empty slice\n",
      "  return np.nanmean(a, axis, out=out, keepdims=keepdims)\n",
      "C:\\Users\\enobo\\AppData\\Local\\Temp\\ipykernel_6284\\565938931.py:15: FutureWarning: A value is trying to be set on a copy of a DataFrame or Series through chained assignment using an inplace method.\n",
      "The behavior will change in pandas 3.0. This inplace method will never work because the intermediate object on which we are setting values always behaves as a copy.\n",
      "\n",
      "For example, when doing 'df[col].method(value, inplace=True)', try using 'df.method({col: value}, inplace=True)' or df[col] = df[col].method(value) instead, to perform the operation inplace on the original object.\n",
      "\n",
      "\n",
      "  fifa_cleaned[col].fillna(fifa_cleaned[col].median(), inplace=True)\n",
      "C:\\Users\\enobo\\AppData\\Local\\Temp\\ipykernel_6284\\565938931.py:15: FutureWarning: Downcasting object dtype arrays on .fillna, .ffill, .bfill is deprecated and will change in a future version. Call result.infer_objects(copy=False) instead. To opt-in to the future behavior, set `pd.set_option('future.no_silent_downcasting', True)`\n",
      "  fifa_cleaned[col].fillna(fifa_cleaned[col].median(), inplace=True)\n"
     ]
    }
   ],
   "source": [
    "# 6️⃣ Convert currency strings ('€110.5M', '€200K', etc.) to numeric values\n",
    "def convert_currency(value):\n",
    "    \"\"\"Convert FIFA currency values (e.g. €110.5M, €200K) to float in Euros.\"\"\"\n",
    "    if isinstance(value, str):\n",
    "        value = value.replace('€', '').replace('K', 'e3').replace('M', 'e6')\n",
    "        try:\n",
    "            return float(eval(value))\n",
    "        except:\n",
    "            return None\n",
    "    return value\n",
    "\n",
    "for col in ['Value', 'Wage', 'Release Clause']:\n",
    "    if col in fifa_cleaned.columns:\n",
    "        fifa_cleaned[col] = fifa_cleaned[col].apply(convert_currency)\n",
    "        fifa_cleaned[col].fillna(fifa_cleaned[col].median(), inplace=True)\n"
   ]
  },
  {
   "cell_type": "code",
   "execution_count": 11,
   "id": "ee69e8af-b264-4a1d-98b1-a0af7049b351",
   "metadata": {},
   "outputs": [],
   "source": [
    "# 7️⃣ Standardize column names (lowercase + underscores)\n",
    "fifa_cleaned.columns = (\n",
    "    fifa_cleaned.columns\n",
    "    .str.strip()\n",
    "    .str.lower()\n",
    "    .str.replace(' ', '_')\n",
    ")\n"
   ]
  },
  {
   "cell_type": "code",
   "execution_count": 12,
   "id": "fb2615ea-cdcb-493f-ba67-171361f9110b",
   "metadata": {},
   "outputs": [],
   "source": [
    "# 8️⃣ Reset index\n",
    "fifa_cleaned.reset_index(drop=True, inplace=True)\n"
   ]
  },
  {
   "cell_type": "code",
   "execution_count": 13,
   "id": "745d86fa-0278-4aca-9338-ffcbfc0132fe",
   "metadata": {},
   "outputs": [
    {
     "name": "stdout",
     "output_type": "stream",
     "text": [
      "✅ Cleaning complete!\n",
      "Rows: 18206 | Columns: 85\n",
      "Saved as: fifa19_cleaned.csv\n"
     ]
    }
   ],
   "source": [
    "# 9️⃣ Save the cleaned dataset\n",
    "fifa_cleaned.to_csv(\"fifa19_cleaned.csv\", index=False)\n",
    "\n",
    "# ✅ Display summary\n",
    "print(\"✅ Cleaning complete!\")\n",
    "print(f\"Rows: {fifa_cleaned.shape[0]} | Columns: {fifa_cleaned.shape[1]}\")\n",
    "print(f\"Saved as: fifa19_cleaned.csv\")"
   ]
  }
 ],
 "metadata": {
  "kernelspec": {
   "display_name": "Python 3 (ipykernel)",
   "language": "python",
   "name": "python3"
  },
  "language_info": {
   "codemirror_mode": {
    "name": "ipython",
    "version": 3
   },
   "file_extension": ".py",
   "mimetype": "text/x-python",
   "name": "python",
   "nbconvert_exporter": "python",
   "pygments_lexer": "ipython3",
   "version": "3.12.7"
  }
 },
 "nbformat": 4,
 "nbformat_minor": 5
}
